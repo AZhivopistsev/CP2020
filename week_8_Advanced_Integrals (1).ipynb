{
 "cells": [
  {
   "cell_type": "markdown",
   "metadata": {},
   "source": [
    "## Часть 1. Гауссовы квадратуры\n",
    "\n",
    "Метод Гауссовых квадратур является одним из методов численного интегрирования, который позволяет увеличить точность интегрирования, используя ортогональные полиномы и их корни в качестве узлов.\n",
    "\n",
    "$$\n",
    "\\int_a^b \\!  w(x)\\, f(x)\\, dx \\approx \\sum_{k=1}^n w_k \\, f(x_k) \\;,\n",
    "$$\n",
    "\n",
    "здесь $\\omega$ - функция весов, которая определят базис ортогональных полиномов, чьи корни используются в качестве узлов интегрирования. Если функция $f(x)$ является полиномом, тогда такой метод интегрирования даст *точное* решение интеграла."
   ]
  },
  {
   "cell_type": "markdown",
   "metadata": {},
   "source": [
    "Например, давайте посчитаем следующий интеграл:\n",
    "\n",
    "$$\n",
    "\\int_{-1}^1 (7x^3 - 8 x^2 - 3 x + 3) dx  \\label{eq1}\\tag{1}\n",
    "$$\n",
    "\n",
    "Здесь функция уже полиномиальна, поэтому возьмем весовую функцию $\\omega(x) = 1$. Тогда вычисление интеграла сводится к сумме корней полинома, соответствующих весовой функции $\\omega(x) = 1$. Например, здесь https://dlmf.nist.gov/18.3 вы можете увидеть, какой базис полиномов соответствует вашей весовой функции.\n",
    "\n",
    "Заметим, что нашей соответствуют полиномы Лежандра. Теперь, зайдем в документацию https://docs.scipy.org/doc/scipy/reference/special.html#orthogonal-polynomials. Функция *roots_legendre* сразу же выдаст корни полиномов Лежандра, а также веса к их корням (для полиномов Лежандра все эти веса равны единице)."
   ]
  },
  {
   "cell_type": "markdown",
   "metadata": {},
   "source": [
    "###  Задание 1.1"
   ]
  },
  {
   "cell_type": "markdown",
   "metadata": {},
   "source": [
    "1. Посчитайте точное значение интеграла ([1](#mjx-eqn-eq1)) \"руками\". Сравните его с полученным численным значением."
   ]
  },
  {
   "cell_type": "code",
   "execution_count": 1,
   "metadata": {},
   "outputs": [],
   "source": [
    "a = -1\n",
    "b = 1\n",
    "c = [3, -3, -8, 7]\n",
    "s = c[0]*(b - a)\n",
    "for i in range(1,len(c)):\n",
    "    s += c[i] * (b**(i+1) - a**(i+1)) / (i + 1)\n",
    "print(s)"
   ]
  },
  {
   "cell_type": "markdown",
   "metadata": {},
   "source": [
    "2. Посчитайте значение интеграла ([1](#mjx-eqn-eq1)), используя обычный метод интегрирования на равномерной сетке (например, написанный вами в week_6_calculus). Оцените количество узлов, необходимых для достижения относительной точности $10^{-10}$."
   ]
  },
  {
   "cell_type": "code",
   "execution_count": 2,
   "metadata": {},
   "outputs": [],
   "source": [
    "import numpy as np"
   ]
  },
  {
   "cell_type": "code",
   "execution_count": 3,
   "metadata": {},
   "outputs": [],
   "source": [
    "def midpoint_rule(func, a, b, eps):\n",
    "    answer = np.inf\n",
    "    integral = (b - a) * func((b - a) / 2)\n",
    "    n = 1\n",
    "    while abs(integral - answer) > eps:\n",
    "        answer = integral\n",
    "        n = n * 2\n",
    "        d = (b - a) / n\n",
    "        x = np.linspace(a + d * 0.5, b - d * 0.5, n)\n",
    "        \n",
    "        integral = sum([func(i) * d for i in x])\n",
    "    return integral, n"
   ]
  },
  {
   "cell_type": "code",
   "execution_count": 4,
   "metadata": {},
   "outputs": [],
   "source": [
    "c = [3, -3, -8, 7]\n",
    "\n",
    "f = lambda x: sum([c[i] * x**i for i in range(len(c))])"
   ]
  },
  {
   "cell_type": "code",
   "execution_count": 5,
   "metadata": {},
   "outputs": [
    {
     "name": "stdout",
     "output_type": "stream",
     "text": [
      "(0.6666666666860299, 524288)\n"
     ]
    }
   ],
   "source": [
    "print(midpoint_rule(f, -1, 1, 1e-10))"
   ]
  },
  {
   "cell_type": "markdown",
   "metadata": {},
   "source": [
    "3. Посчитайте значение интеграла ([1](#mjx-eqn-eq1)), используя корни полинома Лежандра степени от 1 до 6 в качестве узлов (чтобы получить корни и веса используйте scipy.special.roots_legendre)"
   ]
  },
  {
   "cell_type": "code",
   "execution_count": 6,
   "metadata": {},
   "outputs": [
    {
     "name": "stdout",
     "output_type": "stream",
     "text": [
      "6.0\n",
      "0.6666666666666665\n",
      "0.6666666666666634\n",
      "0.6666666666666674\n",
      "0.6666666666666687\n",
      "0.6666666666666693\n"
     ]
    }
   ],
   "source": [
    "import scipy.special\n",
    "\n",
    "s = 0\n",
    "for n in range(1, 6 + 1):\n",
    "    x, w = scipy.special.roots_legendre(n)\n",
    "    s = sum([w[i] * f(x[i]) for i in range(len(x))])\n",
    "    print(s)"
   ]
  },
  {
   "cell_type": "markdown",
   "metadata": {},
   "source": [
    "Сравните количество узлов, необходимых для достижения одинаковой точности в обоих чисенных методах.\n",
    "\n",
    "(20% итоговой оценки)"
   ]
  },
  {
   "cell_type": "code",
   "execution_count": 7,
   "metadata": {},
   "outputs": [
    {
     "name": "stdout",
     "output_type": "stream",
     "text": [
      "524288 число точек для первого пособа\n",
      "2 число точек для второго способа\n"
     ]
    }
   ],
   "source": [
    "from math import log\n",
    "\n",
    "eps = 1e-10\n",
    "print(midpoint_rule(f, -1, 1, eps)[1], 'число точек для первого пособа')\n",
    "n = 0\n",
    "s = np.inf\n",
    "while abs(s - 2/3) > eps:\n",
    "    n += 1\n",
    "    x, w = scipy.special.roots_legendre(n)\n",
    "    s = sum([w[i] * f(x[i]) for i in range(len(x))])\n",
    "print(len(x), 'число точек для второго способа')"
   ]
  },
  {
   "cell_type": "markdown",
   "metadata": {},
   "source": [
    "###  Задание 1.2\n",
    "\n",
    "Вычислите значение того же интеграла, но на интервале от 0 до 10.\n",
    "\n",
    "$$\n",
    "\\int_{0}^{10} (7x^3 - 8 x^2 - 3 x + 3) dx \n",
    "$$\n",
    "\n",
    "Заметим, что больше нельзя использовать полиномы Лежанда, потому что они определены на интервале (-1, 1). Однако всегда можно произвести *аффинное преобразование* (преобразование не меняет область интегрирования) для того, чтобы перейти к желаемой системе координат.\n",
    "\n",
    "(20% итоговой оценки)"
   ]
  },
  {
   "cell_type": "code",
   "execution_count": 8,
   "metadata": {},
   "outputs": [
    {
     "name": "stdout",
     "output_type": "stream",
     "text": [
      "14713.333333333332 ответ через полиномы Лежандра\n",
      "14713.333333333334 ответ на интеграл, посчитанный явно\n"
     ]
    }
   ],
   "source": [
    "c = [3, -3, -8, 7]\n",
    "\n",
    "f_new = lambda x: 5 * sum([c[i] * ((x + 1) * 5)**i for i in range(len(c))])\n",
    "n = 3\n",
    "x, w = scipy.special.roots_legendre(n)\n",
    "s_l = sum([w[i] * f_new(x[i]) for i in range(len(x))])\n",
    "print(s_l, 'ответ через полиномы Лежандра')\n",
    "\n",
    "a = 0\n",
    "b = 10\n",
    "c = [3, -3, -8, 7]\n",
    "s = c[0]*(b - a)\n",
    "for i in range(1,len(c)):\n",
    "    s += c[i] * (b**(i+1) - a**(i+1)) / (i + 1)\n",
    "print(s, 'ответ на интеграл, посчитанный явно')"
   ]
  },
  {
   "cell_type": "markdown",
   "metadata": {},
   "source": [
    "Сравните результат с точным значением интеграла."
   ]
  },
  {
   "cell_type": "code",
   "execution_count": 9,
   "metadata": {},
   "outputs": [
    {
     "name": "stdout",
     "output_type": "stream",
     "text": [
      "1.8189894035458565e-12 Ошибка интегрирования\n"
     ]
    }
   ],
   "source": [
    "print(abs(s - s_l), 'Ошибка интегрирования')"
   ]
  },
  {
   "cell_type": "markdown",
   "metadata": {},
   "source": [
    "### Задание 1.3\n",
    "\n",
    "Вычислите значение следующиего интеграла:\n",
    "$$\n",
    "\\int_{0}^{2\\pi} \\frac{cos(x) dx }{\\sqrt{4\\pi^2 - x^2}}\n",
    "$$\n",
    "используя соответствующий базис ортогональных полиномов.\n",
    "Найдите степень полинома (количество узлов), при которой точность превысит ошибку плавающей точки.\n",
    "\n",
    "(20% итоговой оценки)"
   ]
  },
  {
   "cell_type": "code",
   "execution_count": 10,
   "metadata": {},
   "outputs": [
    {
     "name": "stdout",
     "output_type": "stream",
     "text": [
      "0.055069227134983585 18\n"
     ]
    }
   ],
   "source": [
    "f = lambda x: np.cos(2*np.pi*x) / np.pi * 0.25\n",
    "\n",
    "\n",
    "n = 1\n",
    "delta_old = np.inf\n",
    "delta_new = delta_old\n",
    "\n",
    "x, w = scipy.special.roots_chebyt(n)\n",
    "res = sum([w[i] * f(x[i]) for i in range(len(x))])\n",
    "\n",
    "while delta_new <= delta_old:\n",
    "        n += 1\n",
    "        delta_old = delta_new\n",
    "        x, w = scipy.special.roots_chebyt(n)\n",
    "        s_l = sum([w[i] * f(x[i]) for i in range(len(x))])\n",
    "        delta_new = abs(res - s_l)\n",
    "        res = s_l\n",
    "\n",
    "print(res, n)"
   ]
  },
  {
   "cell_type": "markdown",
   "metadata": {},
   "source": [
    "## Часть 2. Уравение Фредгольма\n",
    "\n",
    "Существует два типа уравнений Фредгольма: \n",
    "\n",
    "1. Уравение Фредгольма первого рода:\n",
    "$$\n",
    "\\int_a^b \\! K(x, t)\\, \\color{blue}{f(t)} \\,dt = g(x)\n",
    "$$\n",
    "\n",
    "2. Уравнение Фредгольма второго рода:\n",
    "$$\n",
    "\\lambda \\int_a^b\\! K(x, t)\\, \\color{blue}{f(t)} \\, dt + g(x) = \\color{blue}{f(x)}\n",
    "$$\n",
    "\n",
    "Здесь функция $f(x)$ неизвестна, $K(x, t)$ - ядро уравнения, заданная функция $g(x)$ и $\\lambda$ - рациональное число.\n",
    "С точки зрения вычислений, уравение Фредгольма первого рода крайне неустойчиво. Далее мы рассмотрим только уравнение второго рода."
   ]
  },
  {
   "cell_type": "markdown",
   "metadata": {},
   "source": [
    "Основная идея - аппроксимировать интеграл некой квадратурной формулой\n",
    "\n",
    "$$\n",
    "\\int_a^b \\! \\xi(t)\\, dt \\approx \\sum_j^N w_j\\, \\xi(t_j)\n",
    "$$\n",
    "\n",
    "с подходящими весами $w_j$ и узлами $t_j$, $j=1, \\dots, N$. Точность аппроксимации контролируется $N$."
   ]
  },
  {
   "cell_type": "markdown",
   "metadata": {},
   "source": [
    "Таким образом, уравнение Фредгольма приближается следующим образом:\n",
    "\n",
    "$$\n",
    "\\lambda \\sum_j w_j\\, K(x, t_j)\\, \\color{blue}{f(t_j)} + g(x) = \\color{blue}{f(x)}\n",
    "$$\n",
    "\n",
    "Отметим, что $x$ - непрерывная переменная, в то время, как $t$ - дискретная."
   ]
  },
  {
   "cell_type": "markdown",
   "metadata": {},
   "source": [
    "Оценивая данное уравнение на сетке $x = t_k$, получаем\n",
    "\n",
    "$$\n",
    "\\lambda \\sum_j w_j \\, K_{k, j}\\, \\color{blue}{f_j} + g_k = \\color{blue}{f_k}\n",
    "$$\n",
    "\n",
    "где $f_j \\equiv f(t_j)$, $g_j \\equiv g(t_j)$ and $K_{k, j} \\equiv K(t_k, t_j)$. Это ничто иное, как система линейных алгебраических уравнений на вектор $\\color{blue}{f_j}$.\n",
    "\n",
    "Ее решение выдает значение неизвестной функции $f(x)$ в дискретных точках $x=t_j$ для $j=1, \\dots, N$."
   ]
  },
  {
   "cell_type": "markdown",
   "metadata": {},
   "source": [
    "### Задание 2.1\n",
    "\n",
    "Решите предложенное уравнение Фредгольма второго рода\n",
    "\n",
    "$$\n",
    "f(x) = \\sin(\\pi x)  + \\frac{1}{2} \\int_0^1\\! f(t) \\, dt\n",
    "$$\n",
    "\n",
    "Здесь $a, b = 0, 1$, $\\lambda = \\dfrac{1}{2}$, ядро $K(x, t) = 1$ и правая часть - $g(x) = \\sin(\\pi x)$.\n",
    "\n",
    "Точное решение (Сборник задач по интегральным уравнениям, 2006, стр. 5):\n",
    "\n",
    "$$\n",
    "f(x) = \\sin(\\pi x) + \\frac{2}{\\pi}\n",
    "$$"
   ]
  },
  {
   "cell_type": "markdown",
   "metadata": {},
   "source": [
    "Для нахождения интеграла воспользуйтесь Гауссовой квадратурой с весовой функцией $w(x) = 1$ на $(0, 1)$. Посмотрите на http://dlmf.nist.gov/18.3, и найдите соответствующую функцию в *scipy.special* (обратите внимание на область интегрирования).\n",
    "\n",
    "Сравните полученные значения функции с точным решением для разных значений $N$. На каком $N$ можно остановиться?\n",
    "\n",
    "(20% итоговой оценки)"
   ]
  },
  {
   "cell_type": "code",
   "execution_count": 76,
   "metadata": {},
   "outputs": [
    {
     "name": "stdout",
     "output_type": "stream",
     "text": [
      "0.3633802276324185 - число шагов 1\n",
      "0.02889134205974216 - число шагов 2\n",
      "0.0007657482051929123 - число шагов 3\n",
      "1.004047565394961e-05 - число шагов 4\n",
      "7.849635643883314e-08 - число шагов 5\n",
      "4.075690888101765e-10 - число шагов 6\n",
      "1.5066630835619936e-12 - число шагов 7\n",
      "2.6967223568632722e-15 - число шагов 8\n",
      "3.6821932062951477e-16 - число шагов 9\n",
      "2.4924445086331347e-15 - число шагов 10\n",
      "4.2998752849492583e-16 - число шагов 11\n",
      "2.3048828947687888e-15 - число шагов 12\n",
      "1.8544380573903915e-15 - число шагов 13\n",
      "7.691850745534255e-16 - число шагов 14\n"
     ]
    }
   ],
   "source": [
    "\n",
    "\n",
    "lam = 0.5\n",
    "\n",
    "for n in range(1, 15):\n",
    "    x, w = scipy.special.roots_sh_legendre(n)\n",
    "\n",
    "    k = np.ones(n)\n",
    "    k.shape = (n, 1)\n",
    "    w.shape = (1,n)\n",
    "\n",
    "    F = np.linalg.solve(np.eye(n) - lam*k@w, np.sin(np.pi * x))\n",
    "\n",
    "    print( np.linalg.norm(np.sin(x*np.pi) + 2/ np.pi - F), '- число шагов', n)"
   ]
  },
  {
   "cell_type": "markdown",
   "metadata": {},
   "source": [
    "Бешеная точность уже на 5 шаге, а на 8 шаге уже нет смысла увеличивать число точек"
   ]
  },
  {
   "cell_type": "markdown",
   "metadata": {},
   "source": [
    "### Задание 2.2\n",
    "\n",
    "Очевидной проблемой предыдущего результата для $f(x)$ является то, что он возвращает решения на фиксированном наборе точек. Мы не контролируем их точное расположение.\n",
    "\n",
    "1. Для начала, попробуйте интерполировать значения, полученные в предыдущем пункте на равномерной сетке длиной 50. Можете использовать любой метод интерполяции. Сравните интерполяцию с точным значением."
   ]
  },
  {
   "cell_type": "code",
   "execution_count": 116,
   "metadata": {},
   "outputs": [
    {
     "data": {
      "image/png": "[encoded data removed]",
      "text/plain": [
       "<Figure size 432x288 with 1 Axes>"
      ]
     },
     "metadata": {
      "needs_background": "light"
     },
     "output_type": "display_data"
    },
    {
     "data": {
      "image/png": "[encoded data removed]",
      "text/plain": [
       "<Figure size 432x288 with 1 Axes>"
      ]
     },
     "metadata": {
      "needs_background": "light"
     },
     "output_type": "display_data"
    }
   ],
   "source": [
    "import numpy as np\n",
    "import matplotlib.pyplot as plt\n",
    "from scipy import interpolate\n",
    "\n",
    "\n",
    "xp = np.linspace(0, 1, 50)\n",
    "\n",
    "n = 8\n",
    "x, w = scipy.special.roots_sh_legendre(n)\n",
    "k = np.ones(n)\n",
    "k.shape = (n, 1)\n",
    "w.shape = (1,n)\n",
    "\n",
    "F = np.linalg.solve(np.eye(n) - lam*k@w, np.sin(np.pi * x))\n",
    "\n",
    "F1 = interpolate.CubicSpline(x, F)  #интерполирующая функция\n",
    "\n",
    "plt.figure()\n",
    "plt.plot(xp, F1(xp), 'o')\n",
    "plt.plot(xp, np.sin(xp*np.pi) + 2/ np.pi)\n",
    "plt.show()\n",
    "\n",
    "plt.figure()\n",
    "plt.plot(xp, abs(F1(xp) - np.sin(xp*np.pi) - 2/ np.pi))\n",
    "plt.show()"
   ]
  },
  {
   "cell_type": "markdown",
   "metadata": {},
   "source": [
    "2. Теперь используйте следующую формулу, чтобы вычислить значение функции на той же равномерной сетке.\n",
    "\n",
    "$$\n",
    "f(x) = g(x) + \\lambda \\sum_j^N w_j\\, K(x, t_j)\\, f(t_j)\n",
    "$$\n",
    "\n",
    "Сравните эту интерполяцию с точным значением, а также с прямым интерполяционным методом.\n",
    "\n",
    "(20% итогой оценки)"
   ]
  },
  {
   "cell_type": "code",
   "execution_count": 153,
   "metadata": {},
   "outputs": [
    {
     "data": {
      "image/png": "[encoded data removed]",
      "text/plain": [
       "<Figure size 432x288 with 1 Axes>"
      ]
     },
     "metadata": {
      "needs_background": "light"
     },
     "output_type": "display_data"
    },
    {
     "data": {
      "image/png": "[encoded data removed]",
      "text/plain": [
       "<Figure size 432x288 with 1 Axes>"
      ]
     },
     "metadata": {
      "needs_background": "light"
     },
     "output_type": "display_data"
    }
   ],
   "source": [
    "n = 9\n",
    "\n",
    "x, w = scipy.special.roots_sh_legendre(n)\n",
    "k = np.ones(n)\n",
    "\n",
    "k.shape = (n, 1)\n",
    "w.shape = (1,n)\n",
    "\n",
    "F = np.linalg.solve(np.eye(n) - lam*k@w, np.sin(np.pi * x))\n",
    "F.shape = (1,n)\n",
    "CONST = np.linalg.norm(w @ F.T * 0.5)\n",
    "F2 = lambda xp: np.sin(np.pi * xp) + CONST\n",
    "\n",
    "xp = np.linspace(0, 1, 50)\n",
    "\n",
    "plt.figure()\n",
    "plt.plot(xp, F2(xp), 'o')\n",
    "plt.plot(xp, np.sin(xp*np.pi) + 2/ np.pi)\n",
    "plt.show()\n",
    "\n",
    "plt.figure()\n",
    "plt.plot(xp, abs(F2(xp) - np.sin(xp*np.pi) - 2/ np.pi))\n",
    "plt.show()"
   ]
  },
  {
   "cell_type": "markdown",
   "metadata": {},
   "source": [
    "Вообще маленькая погрешность, порядка 1е-16"
   ]
  }
 ],
 "metadata": {
  "kernelspec": {
   "display_name": "Python 3",
   "language": "python",
   "name": "python3"
  },
  "language_info": {
   "codemirror_mode": {
    "name": "ipython",
    "version": 3
   },
   "file_extension": ".py",
   "mimetype": "text/x-python",
   "name": "python",
   "nbconvert_exporter": "python",
   "pygments_lexer": "ipython3",
   "version": "3.7.4"
  }
 },
 "nbformat": 4,
 "nbformat_minor": 4
}
