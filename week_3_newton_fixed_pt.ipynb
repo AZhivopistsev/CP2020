{
 "cells": [
  {
   "cell_type": "code",
   "execution_count": 275,
   "metadata": {},
   "outputs": [],
   "source": [
    "import numpy as np\n",
    "import matplotlib.pyplot as plt\n",
    "\n",
    "def newton_iteration(f, fder, x0, eps=1e-5, maxiter=1000):\n",
    "    #считаем первую итерацию для сравнения разницы с eps\n",
    "    x1 = x0 - f(x0)/fder(x0)\n",
    "    #score будет считать итерации\n",
    "    score = 1\n",
    "    while score < maxiter and abs(x1 - x0) > eps:\n",
    "        x0 = x1\n",
    "        x1 = x0 - f(x0)/fder(x0)\n",
    "        score += 1\n",
    "    return x1, score"
   ]
  },
  {
   "cell_type": "code",
   "execution_count": 276,
   "metadata": {},
   "outputs": [],
   "source": [
    "def F1(x):\n",
    "    return x**2 - 1\n",
    "def dF1(x):\n",
    "    return 2*x"
   ]
  },
  {
   "cell_type": "code",
   "execution_count": 277,
   "metadata": {},
   "outputs": [
    {
     "data": {
      "text/plain": [
       "(1.000000000000001, 5)"
      ]
     },
     "execution_count": 277,
     "metadata": {},
     "output_type": "execute_result"
    }
   ],
   "source": [
    "newton_iteration(F1, dF1, 2)"
   ]
  },
  {
   "cell_type": "code",
   "execution_count": 278,
   "metadata": {},
   "outputs": [],
   "source": [
    "#для нахождения степени корня на вход будет поступать функция и массив производных\n",
    "def newton_iteration2(f, fder, x0, eps=1e-5, maxiter=1000):\n",
    "    #m это количество корней\n",
    "    m = 1\n",
    "    #это часть определяет итерацию, за циклом снова нужна чтобы потом легко сравнивать\n",
    "    if fder(x0)[0] == 0:\n",
    "        for i in range(1, len(fder(1))):\n",
    "            if fder(x0)[i] != 0:\n",
    "                m = i\n",
    "        x1 = x0 - m * fder(x0)[m-1]/fder(x0)[m]\n",
    "    else:\n",
    "        x1 = x0 - f(x0)/fder(x0)[0]\n",
    "    #счетчик итераций\n",
    "    score = 1\n",
    "    \n",
    "    while score < maxiter and abs(x1 - x0) > eps:\n",
    "        x0 = x1\n",
    "        m = 1\n",
    "        \n",
    "        if fder(x0)[0] == 0:\n",
    "            for i in range(1, len(fder(1))):\n",
    "                if fder(x0)[i] != 0:\n",
    "                    m = i\n",
    "            x1 = x0 - m * fder(x0)[m-1]/fder(x0)[m]\n",
    "        else:\n",
    "            x1 = x0 - f(x0)/fder(x0)[0]\n",
    "            \n",
    "        score += 1\n",
    "        \n",
    "    return x1, m + 1, score"
   ]
  },
  {
   "cell_type": "code",
   "execution_count": 279,
   "metadata": {},
   "outputs": [],
   "source": [
    "def F2(x):\n",
    "    return (x**2-1)**2\n",
    "def dF2(x):\n",
    "    return [4*(x**2-1)*x, 12*x**2 - 4, 24*x, 24]"
   ]
  },
  {
   "cell_type": "code",
   "execution_count": 280,
   "metadata": {},
   "outputs": [
    {
     "name": "stdout",
     "output_type": "stream",
     "text": [
      "(1.000006541053994, 2, 21)\n"
     ]
    }
   ],
   "source": [
    "print(newton_iteration2(F2, dF2, 4))"
   ]
  },
  {
   "cell_type": "code",
   "execution_count": 281,
   "metadata": {},
   "outputs": [],
   "source": [
    "def F3(x):\n",
    "    return -np.cos(x) + x**0.5\n",
    "def dF3(x):\n",
    "    return np.sin(x) + 0.5*x**(-0.5)"
   ]
  },
  {
   "cell_type": "code",
   "execution_count": 299,
   "metadata": {},
   "outputs": [
    {
     "data": {
      "image/png": "[encoded data removed]",
      "text/plain": [
       "<Figure size 432x288 with 1 Axes>"
      ]
     },
     "metadata": {
      "needs_background": "light"
     },
     "output_type": "display_data"
    }
   ],
   "source": [
    "plt.figure()\n",
    "\n",
    "x = np.linspace(0, 5, 100)\n",
    "plt.grid()\n",
    "\n",
    "#график на интервале x от функции F3\n",
    "plt.plot(x, F3(x))\n",
    "\n",
    "plt.show()"
   ]
  },
  {
   "cell_type": "code",
   "execution_count": 300,
   "metadata": {},
   "outputs": [
    {
     "name": "stdout",
     "output_type": "stream",
     "text": [
      "(0.6417143708728826, 4)\n"
     ]
    }
   ],
   "source": [
    "print(newton_iteration(F3, dF3, 1))"
   ]
  },
  {
   "cell_type": "code",
   "execution_count": 301,
   "metadata": {},
   "outputs": [],
   "source": [
    "#другой способ с a \n",
    "def newton_iteration_a(f, a, x0, eps=1e-5, maxiter=100):\n",
    "    x1 = x0 - f(x0) * a\n",
    "    score = 1\n",
    "    while score < maxiter and abs(x1 - x0) > eps:\n",
    "        x0 = x1\n",
    "        x1 = x0 - f(x0) * a\n",
    "        score += 1\n",
    "    return x1, score"
   ]
  },
  {
   "cell_type": "code",
   "execution_count": 308,
   "metadata": {},
   "outputs": [
    {
     "name": "stdout",
     "output_type": "stream",
     "text": [
      "(0.6417120776232991, 9)\n"
     ]
    }
   ],
   "source": [
    "#a считаем отдельно так как можем задать любое\n",
    "m = min(abs(dF3(x[1:])))\n",
    "M = max(abs(dF3(x[1:])))\n",
    "#это нужно чтобы приближениие было возможно\n",
    "if m < 1:\n",
    "    m = 1\n",
    "\n",
    "a = 2 / (m + M)\n",
    "print(newton_iteration_a(F3, a, 0.1))"
   ]
  },
  {
   "cell_type": "code",
   "execution_count": 310,
   "metadata": {},
   "outputs": [
    {
     "data": {
      "image/png": "[encoded data removed]",
      "text/plain": [
       "<Figure size 432x288 with 1 Axes>"
      ]
     },
     "metadata": {
      "needs_background": "light"
     },
     "output_type": "display_data"
    }
   ],
   "source": [
    "a_x = np.linspace(1 / M, 1 / m, 1000) #это от минимального  возможного коэффициента наклона до максиамального a\n",
    "\n",
    "\n",
    "plt.figure()\n",
    "plt.plot(a_x, [newton_iteration_a(F3, i, 1)[1] for i in a_x])\n",
    "plt.show()"
   ]
  },
  {
   "cell_type": "code",
   "execution_count": 328,
   "metadata": {},
   "outputs": [],
   "source": [
    "from scipy import optimize\n",
    "\n",
    "def Fractal(x_min, x_max, y_min, y_max, f, roots, colors, eps = 1e-5):\n",
    "    #разбиваем заданный интервал на 2500 точек и смотрим их сходимость (можно поставить больше но ждать надоедает)\n",
    "    x = np.linspace(x_min, x_max, 50)\n",
    "    y = np.linspace(y_min, y_max, 50)\n",
    "    \n",
    "    plt.figure()\n",
    "    #пробегаем все точки, обсчитываем каждую\n",
    "    for i in x:\n",
    "        for j in y:\n",
    "            \n",
    "            r = optimize.root(f, i + j*1j, method = 'krylov', tol = eps)\n",
    "            # мы изначально задаем точки к которым может придти функция (roots) и цвета в которые хотим покрасить каждый из корней (colors)\n",
    "            for n in range(len(roots)):\n",
    "                if abs(r.x - roots[n]) <= 2*eps: #здесь мы определяем к которому корню ближе\n",
    "                    plt.plot(i, j, 'o', color = colors[n])\n",
    "                    \n",
    "    plt.show()"
   ]
  },
  {
   "cell_type": "code",
   "execution_count": 331,
   "metadata": {},
   "outputs": [
    {
     "data": {
      "image/png": "[encoded data removed]",
      "text/plain": [
       "<Figure size 432x288 with 1 Axes>"
      ]
     },
     "metadata": {
      "needs_background": "light"
     },
     "output_type": "display_data"
    }
   ],
   "source": [
    "def fun(x):\n",
    "    return (x+0j)**3-1\n",
    "\n",
    "roots = [1, np.exp(2j/3*np.pi), np.exp(4j/3*np.pi)] #корни\n",
    "colors = ['g', 'red', 'b'] #цвета в которые красят корни\n",
    "\n",
    "Fractal(-1,1,-1,1, fun, roots, colors) "
   ]
  },
  {
   "cell_type": "code",
   "execution_count": 332,
   "metadata": {},
   "outputs": [
    {
     "data": {
      "image/png": "[encoded data removed]",
      "text/plain": [
       "<Figure size 432x288 with 1 Axes>"
      ]
     },
     "metadata": {
      "needs_background": "light"
     },
     "output_type": "display_data"
    }
   ],
   "source": [
    "Fractal(-10,10,-10,10, fun, roots, colors) "
   ]
  },
  {
   "cell_type": "code",
   "execution_count": null,
   "metadata": {},
   "outputs": [],
   "source": []
  },
  {
   "cell_type": "code",
   "execution_count": null,
   "metadata": {},
   "outputs": [],
   "source": []
  },
  {
   "cell_type": "code",
   "execution_count": null,
   "metadata": {},
   "outputs": [],
   "source": []
  },
  {
   "cell_type": "code",
   "execution_count": null,
   "metadata": {},
   "outputs": [],
   "source": []
  }
 ],
 "metadata": {
  "kernelspec": {
   "display_name": "Python 3",
   "language": "python",
   "name": "python3"
  },
  "language_info": {
   "codemirror_mode": {
    "name": "ipython",
    "version": 3
   },
   "file_extension": ".py",
   "mimetype": "text/x-python",
   "name": "python",
   "nbconvert_exporter": "python",
   "pygments_lexer": "ipython3",
   "version": "3.7.6"
  }
 },
 "nbformat": 4,
 "nbformat_minor": 4
}
