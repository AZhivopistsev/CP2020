{
 "cells": [
  {
   "cell_type": "code",
   "execution_count": 1,
   "metadata": {},
   "outputs": [],
   "source": [
    "import numpy as np\n",
    "\n",
    "from numpy.testing import assert_allclose"
   ]
  },
  {
   "cell_type": "code",
   "execution_count": 23,
   "metadata": {},
   "outputs": [],
   "source": [
    "def householder(vec):\n",
    "    vec = np.asarray(vec, dtype=float)\n",
    "    if len(vec) <= 1:\n",
    "        return vec, np.eye(len(vec))\n",
    "    #просто последовательно реализуем алгоритм\n",
    "    n = len(vec)\n",
    "    outvec = np.zeros(n)\n",
    "    outvec[0] = np.linalg.norm(vec)\n",
    "    u = (vec - outvec) / np.linalg.norm(vec - outvec)\n",
    "    H = np.eye(n) - 2 * u.reshape(n,1) @ u.reshape(1,n)\n",
    "    return outvec, H"
   ]
  },
  {
   "cell_type": "code",
   "execution_count": 24,
   "metadata": {},
   "outputs": [],
   "source": [
    "v = np.array([1, 2, 3])\n",
    "v1, h = householder(v)\n",
    "assert_allclose(np.dot(h, v1), v)\n",
    "assert_allclose(np.dot(h, v), v1, atol = 1e-10)\n"
   ]
  },
  {
   "cell_type": "code",
   "execution_count": 25,
   "metadata": {},
   "outputs": [],
   "source": [
    "rndm = np.random.RandomState(1234)\n",
    "\n",
    "vec = rndm.uniform(size=7)\n",
    "v1, h = householder(vec)\n",
    "\n",
    "assert_allclose(np.dot(h, v1), vec)"
   ]
  },
  {
   "cell_type": "code",
   "execution_count": 36,
   "metadata": {},
   "outputs": [],
   "source": [
    "def qr_decomp(a):\n",
    "\n",
    "    A = np.array(a, copy=True, dtype=float)\n",
    "    m, n = A.shape\n",
    "    \n",
    "    H = np.eye(m) #матрица, которая будет \"запоминать\" все преобразования\n",
    "    Ai, h = householder(A[:,0]) #Ai никак не будет использоваться, нужен только потому что householder возвращает два значения\n",
    "    A = h @ A\n",
    "    H = h @ H\n",
    "    for i in range(1,n):\n",
    "        Ai, h = householder(A[i:,i]) #ищем Хаусхолдер для среза из поддиагональных и диагональных элементов для каждого столбца\n",
    "        \n",
    "        #собираем матрицу из Хаусхолдера\n",
    "        I = np.eye(i)              #единичная верхний левый угол\n",
    "        hr = np.zeros((i,m-i))     #матрица нулей верхний правый угол\n",
    "        bl = np.zeros((m-i,i))     #матрица нулей нжний правый угол\n",
    "        top = np.hstack((I,hr))    #верхняя часть\n",
    "        bot = np.hstack((bl,h))    #нижняя\n",
    "        \n",
    "        E = np.vstack((top,bot))   #наша матрица накенец получена!!!\n",
    "        H = H @ E\n",
    "        A = E @ A\n",
    "  \n",
    "    return H, A"
   ]
  },
  {
   "cell_type": "code",
   "execution_count": 37,
   "metadata": {},
   "outputs": [],
   "source": [
    "np.set_printoptions(suppress=True)\n",
    "\n",
    "rndm = np.random.RandomState(1234)\n",
    "a = rndm.uniform(size=(5, 3))\n",
    "q, r = qr_decomp(a)\n",
    "\n",
    "assert_allclose(np.dot(q, q.T), np.eye(5), atol=1e-10)\n",
    "\n",
    "assert_allclose(np.dot(q, r), a)"
   ]
  },
  {
   "cell_type": "code",
   "execution_count": 38,
   "metadata": {},
   "outputs": [],
   "source": [
    "from scipy.linalg import qr\n",
    "qq, rr = qr(a)\n",
    "\n",
    "assert_allclose(np.dot(qq, rr), a)"
   ]
  },
  {
   "cell_type": "code",
   "execution_count": 39,
   "metadata": {},
   "outputs": [
    {
     "name": "stdout",
     "output_type": "stream",
     "text": [
      "[[ 1.40152769  1.2514379   0.89523615]\n",
      " [ 0.          0.84158252  0.68447942]\n",
      " [ 0.         -0.          0.5496046 ]\n",
      " [ 0.          0.          0.        ]\n",
      " [ 0.         -0.         -0.        ]]\n",
      "----\n",
      "[[-1.40152769 -1.2514379  -0.89523615]\n",
      " [ 0.          0.84158252  0.68447942]\n",
      " [ 0.          0.         -0.5496046 ]\n",
      " [ 0.          0.          0.        ]\n",
      " [ 0.          0.          0.        ]]\n",
      "-------------------------------\n",
      "[[ 0.13665049  0.53601299 -0.09369752  0.7697136   0.30459557]\n",
      " [ 0.56035895  0.0935397  -0.53326881  0.01839528 -0.62652547]\n",
      " [ 0.19725922  0.65948912  0.60068463 -0.32384673 -0.24589462]\n",
      " [ 0.62498418 -0.50418303  0.52144688  0.28453698  0.04822969]\n",
      " [ 0.48765568  0.12171264 -0.27224305 -0.47049398  0.67223293]]\n",
      "----\n",
      "[[-0.13665049  0.53601299  0.09369752  0.661619   -0.49749149]\n",
      " [-0.56035895  0.0935397   0.53326881 -0.52477245 -0.34276292]\n",
      " [-0.19725922  0.65948912 -0.60068463 -0.37879015  0.14784752]\n",
      " [-0.62498418 -0.50418303 -0.52144688  0.18967657 -0.21750907]\n",
      " [-0.48765568  0.12171264  0.27224305  0.32774225  0.75222783]]\n"
     ]
    }
   ],
   "source": [
    "print(r)\n",
    "print(\"----\")\n",
    "print(rr)\n",
    "print(\"-------------------------------\")\n",
    "print(q)\n",
    "print(\"----\")\n",
    "print(qq)"
   ]
  },
  {
   "cell_type": "markdown",
   "metadata": {},
   "source": [
    "мы использовали Хаусхолдер, который выдавал модули векторов, поэтому у нас везде положительные значения, во втроенном в итоговых значениях r появлялись отрицательные"
   ]
  },
  {
   "cell_type": "markdown",
   "metadata": {},
   "source": [
    "Part III. Avoid forming Householder matrices explicitly."
   ]
  },
  {
   "cell_type": "code",
   "execution_count": 41,
   "metadata": {},
   "outputs": [],
   "source": [
    "def ur_decomp(a):\n",
    "    \n",
    "    def by_u(vec):   #функция поиска вектора u\n",
    "        n = len(vec)\n",
    "        outvec = np.zeros(n)\n",
    "        outvec[0] = np.linalg.norm(vec)\n",
    "        u = (vec - outvec) / np.linalg.norm(vec - outvec)\n",
    "        return u\n",
    "       \n",
    "    A = np.array(a, copy=True, dtype=float)\n",
    "    m, n = np.shape(A)\n",
    "    U = []  #здесь будем хранить все u\n",
    "    U.append(by_u(A[0:,0]))\n",
    "    v = np.array(U[0])\n",
    "    A = A - 2*v.reshape(len(v),1)@(v.reshape(1,len(v))@A)    #считаем на следующем шаге матрицу A\n",
    "    stop = min(n,m)\n",
    "    for i in range(1,stop):\n",
    "        U.append(np.hstack((np.zeros(i),by_u(A[i:,i]))))    #добавляем веткора u, сразу удлинняя их\n",
    "        v = np.array(U[i])\n",
    "        A = A - 2*v.reshape(len(v),1)@(v.reshape(1,len(v))@A)\n",
    "    return U, A"
   ]
  },
  {
   "cell_type": "code",
   "execution_count": 82,
   "metadata": {},
   "outputs": [],
   "source": [
    "def build_from_u(u, a):\n",
    "    n = len(u)       #число столбцов (количество u)\n",
    "    m = len(u[0])    #число строк (длина u)\n",
    "    for i in range(n-1,-1,-1):\n",
    "        a = a - 2 * u[i].reshape(m,1)@(u[i].reshape(1,m)@a)\n",
    "    return a"
   ]
  },
  {
   "cell_type": "code",
   "execution_count": 83,
   "metadata": {},
   "outputs": [],
   "source": [
    "u, r = ur_decomp(a)"
   ]
  },
  {
   "cell_type": "code",
   "execution_count": 85,
   "metadata": {},
   "outputs": [
    {
     "name": "stdout",
     "output_type": "stream",
     "text": [
      "[[ 0.  0.  0.]\n",
      " [-0.  0.  0.]\n",
      " [ 0. -0. -0.]\n",
      " [-0.  0. -0.]\n",
      " [ 0. -0. -0.]]\n"
     ]
    }
   ],
   "source": [
    "print(build_from_u(u,r)-a)"
   ]
  },
  {
   "cell_type": "code",
   "execution_count": 86,
   "metadata": {},
   "outputs": [
    {
     "name": "stdout",
     "output_type": "stream",
     "text": [
      "[[   0.    1.    4. ... 4489. 4624. 4761.]\n",
      " [   3.    5.    9. ... 4559. 4695. 4833.]\n",
      " [   6.    9.   14. ... 4629. 4766. 4905.]\n",
      " ...\n",
      " [ 168.  225.  284. ... 8409. 8600. 8793.]\n",
      " [ 171.  229.  289. ... 8479. 8671. 8865.]\n",
      " [ 174.  233.  294. ... 8549. 8742. 8937.]]\n"
     ]
    }
   ],
   "source": [
    "monster = np.zeros((59,70))\n",
    "for i in range(len(monster)):\n",
    "    for j in range(len(monster[0])):\n",
    "        monster[i][j] = i + i*(j+2) +j**2\n",
    "print(monster)"
   ]
  },
  {
   "cell_type": "code",
   "execution_count": 94,
   "metadata": {},
   "outputs": [
    {
     "name": "stdout",
     "output_type": "stream",
     "text": [
      "[[ 0.  0. -0. ...  0.  0. -0.]\n",
      " [-0. -0. -0. ... -0. -0. -0.]\n",
      " [-0. -0.  0. ...  0.  0.  0.]\n",
      " ...\n",
      " [-0. -0.  0. ... -0. -0.  0.]\n",
      " [-0. -0.  0. ... -0. -0.  0.]\n",
      " [-0. -0.  0. ... -0. -0.  0.]]\n"
     ]
    }
   ],
   "source": [
    "mu, mr = ur_decomp(monster)\n",
    "print(build_from_u(mu,mr)-monster)"
   ]
  },
  {
   "cell_type": "code",
   "execution_count": null,
   "metadata": {},
   "outputs": [],
   "source": []
  }
 ],
 "metadata": {
  "kernelspec": {
   "display_name": "Python 3",
   "language": "python",
   "name": "python3"
  },
  "language_info": {
   "codemirror_mode": {
    "name": "ipython",
    "version": 3
   },
   "file_extension": ".py",
   "mimetype": "text/x-python",
   "name": "python",
   "nbconvert_exporter": "python",
   "pygments_lexer": "ipython3",
   "version": "3.7.6"
  }
 },
 "nbformat": 4,
 "nbformat_minor": 4
}
