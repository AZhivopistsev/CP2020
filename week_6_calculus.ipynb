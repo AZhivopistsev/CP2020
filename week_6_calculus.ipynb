{
 "cells": [
  {
   "cell_type": "markdown",
   "metadata": {},
   "source": [
    "# Часть I. Односторонние разностные схемы."
   ]
  },
  {
   "cell_type": "markdown",
   "metadata": {},
   "source": [
    "Напишите функцию `deriv`, которая вычисляет производную аргумента в заданной точке $x$, используя односторонню разностную схему с заданным шагом $h$ и степенью аппроксимации $O(h^2)$."
   ]
  },
  {
   "cell_type": "code",
   "execution_count": 1,
   "metadata": {},
   "outputs": [],
   "source": [
    "def deriv(f, x, h):\n",
    "    \"\"\" Вычисляет производную `f` в точке `x` с шагом `h`.\n",
    "    Вычисляет производную, используя односторонню разностную схему со степенью аппроксимации $O(h^2)$.\n",
    "    \n",
    "    Parameters\n",
    "    ----------\n",
    "    f : callable\n",
    "        Функция, которую нужно продифференцировать\n",
    "    x : float\n",
    "        Точка, в которой нужно дифференцировать функцию\n",
    "    h : float\n",
    "        Шаг\n",
    "        \n",
    "    Rerurns\n",
    "    -------\n",
    "    fder : производная f(x) в точке x с шагом h.\n",
    "    \"\"\"\n",
    "    return (-0.5 * f(x + 2 * h) + 2 * f(x + h) - 1.5 * f(x)) / h"
   ]
  },
  {
   "cell_type": "markdown",
   "metadata": {},
   "source": [
    "#### Тест I.1\n",
    "\n",
    "Проверьте ваш алгоритм на простом примере: продифференцируйте $f(x) = x^3$ в точке $x=0$. Прокомментируйте, совпадает ли результат с ожидаемым $f'(x) = 0$ при стремлении $h\\to 0$.\n",
    "\n",
    " (10% итоговой оценки)"
   ]
  },
  {
   "cell_type": "code",
   "execution_count": 2,
   "metadata": {},
   "outputs": [
    {
     "name": "stdout",
     "output_type": "stream",
     "text": [
      "0.010000 -- -0.0002\n",
      "0.001000 --  -2e-06\n",
      "0.000100 --  -2e-08\n",
      "0.000010 --  -2e-10\n"
     ]
    }
   ],
   "source": [
    "x = 0\n",
    "for h in [1e-2, 1e-3, 1e-4, 1e-5]:\n",
    "    err = deriv(lambda x: x**3, x, h)\n",
    "    print(\"%5f -- %7.4g\" % (h, err))"
   ]
  },
  {
   "cell_type": "markdown",
   "metadata": {},
   "source": [
    "Совпадает с точностью до $h^2$, как мы и предполагали"
   ]
  },
  {
   "cell_type": "markdown",
   "metadata": {},
   "source": [
    "### Тест I.2\n",
    "\n",
    "Теперь попробуйте немного более сложную функцию $f(x) = x^2 \\log{x}$. Оцените значение производной в точке $x=1$, используя двухточечную и трехточечную схемы. Для обеих схем оцените значение $h$, при котором ошибка перестанет падать.\n",
    "\n",
    "(15% итоговой оценки)"
   ]
  },
  {
   "cell_type": "code",
   "execution_count": 3,
   "metadata": {},
   "outputs": [],
   "source": [
    "from math import log\n",
    "\n",
    "def f(x):\n",
    "    return x**2 * log(x)\n",
    "    \n",
    "def fder(x):\n",
    "    return x * (2.*log(x) + 1)"
   ]
  },
  {
   "cell_type": "code",
   "execution_count": 148,
   "metadata": {},
   "outputs": [
    {
     "name": "stdout",
     "output_type": "stream",
     "text": [
      "Три точки: 1.0000000000000002e-06\n",
      "Две точки: 1e-05\n"
     ]
    }
   ],
   "source": [
    "import matplotlib.pyplot as plt\n",
    "import numpy as np\n",
    "\n",
    "def deriv_2(f, x, h):\n",
    "    return (f(x+h) - f(x)) / h\n",
    "\n",
    "x = 1\n",
    "h = 0.001\n",
    "H = 0.001\n",
    "\n",
    "delta1 = 1000\n",
    "delta2 = 100\n",
    "Delta1 = 1000\n",
    "Delta2 = 100\n",
    "\n",
    "while delta1 > delta2:\n",
    "    delta1 = delta2\n",
    "    h = 0.1 * h\n",
    "    delta2 = abs(deriv(f, x, h) - fder(x))\n",
    "\n",
    "while Delta1 > Delta2:\n",
    "    Delta1 = Delta2\n",
    "    H = 0.1 * H\n",
    "    Delta2 = abs(deriv_2(f, x, h) - fder(x))\n",
    "\n",
    "\n",
    "print(\"Три точки:\", h)\n",
    "print(\"Две точки:\", H)\n"
   ]
  },
  {
   "cell_type": "markdown",
   "metadata": {},
   "source": [
    "### Тест I.3 \n",
    "\n",
    "Теперь продифференцируйте $x^2 \\log(x)$ в $x=0$. Используйте трехточечную схему. Заметьте, что В нуле функцию нужно доопределить явным образом. Проверьте шкалированные ошибки. Объясните полученные результаты.\n",
    "\n",
    "(25% итоговой оценки)"
   ]
  },
  {
   "cell_type": "code",
   "execution_count": 142,
   "metadata": {},
   "outputs": [
    {
     "name": "stdout",
     "output_type": "stream",
     "text": [
      "0.010000 -- -0.01386\n",
      "0.001000 -- -0.001386\n",
      "0.000100 -- -0.0001386\n",
      "0.000010 -- -1.386e-05\n"
     ]
    }
   ],
   "source": [
    "def f(x):\n",
    "    if x == 0:\n",
    "        # предел $x^2 log(x)$ при $x-> 0$ равен нулю, хотя log(x) не определен в x=0\n",
    "        return 0.0\n",
    "    else:\n",
    "        return x**2 * log(x)\n",
    "    \n",
    "def fder(x):\n",
    "    if x == 0:\n",
    "        return 0.0\n",
    "    else:\n",
    "        return x*(2*log(x) + 1)\n",
    "\n",
    "x = 0\n",
    "for h in [1e-2, 1e-3, 1e-4, 1e-5]:\n",
    "    err = deriv(f, x, h) - fder(x)\n",
    "    print(\"%5f -- %7.4g\" % (h, err))"
   ]
  },
  {
   "cell_type": "markdown",
   "metadata": {},
   "source": [
    "... ENTER YOUR EXPLANATION HERE ..."
   ]
  },
  {
   "cell_type": "markdown",
   "metadata": {},
   "source": [
    "# Part II. Midpoint rule "
   ]
  },
  {
   "cell_type": "markdown",
   "metadata": {},
   "source": [
    "Напишите функцию, вычисляющую определенный интеграл, используя \"midpoint rule\", с точностью до заданной погрешности $\\epsilon$. Оцените ошибку, сравнивая значения интеграла для $N$ и $2N$ элементарных интервалов."
   ]
  },
  {
   "cell_type": "code",
   "execution_count": 69,
   "metadata": {},
   "outputs": [],
   "source": [
    "def midpoint_rule(func, a, b, eps):\n",
    "    \"\"\" Вычисляет интеграл f от a до b используя \"midpoint rule\".\n",
    "    \n",
    "    Параметры\n",
    "    ----------\n",
    "    func : callable\n",
    "        Функция, которую нужно проинтегрировать\n",
    "    a : float\n",
    "        Нижний предел интегрирования\n",
    "    b : float\n",
    "        Верхний предел интегрирования\n",
    "    eps : float\n",
    "        Ожидаемая ошибка оценки\n",
    "        \n",
    "    Возвращает\n",
    "    -------\n",
    "    integral : float\n",
    "        Оценка интеграла $\\int_a^b f(x) dx$.\n",
    "    \"\"\"\n",
    "    #n - число столбиков, добавляем и вычитаем, чтобы были x только в нужных точках\n",
    "    answer = np.inf\n",
    "    integral = (b - a) * func((b - a) / 2)\n",
    "    n = 1\n",
    "    while abs(integral - answer) > eps:\n",
    "        answer = integral\n",
    "        n = n * 2\n",
    "        d = (b - a) / n\n",
    "        x = np.linspace(a + d * 0.5, b - d * 0.5, n)\n",
    "        \n",
    "        integral = sum([func(i) * d for i in x])\n",
    "    return integral, n"
   ]
  },
  {
   "cell_type": "code",
   "execution_count": 96,
   "metadata": {},
   "outputs": [
    {
     "name": "stdout",
     "output_type": "stream",
     "text": [
      "0.0\n",
      "0.0\n",
      "8.0\n",
      "-2.25\n",
      "-2.25\n",
      "-2.25\n"
     ]
    }
   ],
   "source": [
    "print(midpoint_rule(lambda x: x**5, -5, 5, 1e-3)[0])\n",
    "print(midpoint_rule(lambda x: np.cos(x), -np.pi, np.pi, 1e-3)[0])\n",
    "print(midpoint_rule(lambda x: x, 0, 4, 1e-3)[0])\n",
    "#все ответы совпадают\n",
    "#выведем ответ такой формулы: значение интеграла * число шагов в квадрате; сравним ответы для разных eps\n",
    "print((midpoint_rule(lambda x: x**2, 0, 3, 1e-3)[0] - 3**3 / 3) * midpoint_rule(lambda x: x**2, 0, 3, 1e-3)[1]**2)\n",
    "print((midpoint_rule(lambda x: x**2, 0, 3, 1e-4)[0] - 3**3 / 3) * midpoint_rule(lambda x: x**2, 0, 3, 1e-4)[1]**2)\n",
    "print((midpoint_rule(lambda x: x**2, 0, 3, 1e-5)[0] - 3**3 / 3) * midpoint_rule(lambda x: x**2, 0, 3, 1e-5)[1]**2)"
   ]
  },
  {
   "cell_type": "markdown",
   "metadata": {},
   "source": [
    "### Тест II.1\n",
    "\n",
    "Протестирутйте ваш алгоритм на простом интеграле, который вы можете посчитать аналитически.\n",
    "\n",
    "Сравните скорость сходимости с ожидаемой $O(N^{-2})$ в зависимости от количества интервалов, необходимых для заданной точности $\\epsilon$.\n",
    "\n",
    "Сравните полученный результат с ответом, вычисленным руками. Попадает ли результат в интервал заданной ошибки?\n",
    "\n",
    "(20% итоговой оценки)\n"
   ]
  },
  {
   "cell_type": "code",
   "execution_count": 146,
   "metadata": {},
   "outputs": [
    {
     "name": "stdout",
     "output_type": "stream",
     "text": [
      "0.0\n",
      "0.0\n",
      "8.0\n",
      "-2.25\n",
      "-2.25\n",
      "-2.25\n",
      "-2.1457672119140625e-06\n"
     ]
    }
   ],
   "source": [
    "print(midpoint_rule(lambda x: x**5, -5, 5, 1e-3)[0])\n",
    "print(midpoint_rule(lambda x: np.cos(x), -np.pi, np.pi, 1e-3)[0])\n",
    "print(midpoint_rule(lambda x: x, 0, 4, 1e-3)[0])\n",
    "#все ответы совпадают\n",
    "#выведем ответ такой формулы: значение интеграла * число шагов в квадрате; сравним ответы для разных eps\n",
    "print((midpoint_rule(lambda x: x**2, 0, 3, 1e-3)[0] - 3**3 / 3) * midpoint_rule(lambda x: x**2, 0, 3, 1e-3)[1]**2)\n",
    "print((midpoint_rule(lambda x: x**2, 0, 3, 1e-4)[0] - 3**3 / 3) * midpoint_rule(lambda x: x**2, 0, 3, 1e-4)[1]**2)\n",
    "print((midpoint_rule(lambda x: x**2, 0, 3, 1e-5)[0] - 3**3 / 3) * midpoint_rule(lambda x: x**2, 0, 3, 1e-5)[1]**2)\n",
    "# теперь посмотрим на интервал ошибки\n",
    "print((midpoint_rule(lambda x: x**2, 0, 3, 1e-5)[0] - 3**3 / 3)) # ошибка порядка -6 степени, значит попадает в интервал"
   ]
  },
  {
   "cell_type": "markdown",
   "metadata": {},
   "source": [
    "... ENTER YOUR CODE AND COMMENTS HERE ..."
   ]
  },
  {
   "cell_type": "markdown",
   "metadata": {},
   "source": [
    "### Тест II.2\n",
    "\n",
    "Используя ваш алгоритм, посчитайте значение\n",
    "\n",
    "$$\n",
    "\\int_0^1\\! \\frac{\\sin{\\sqrt{x}}}{x}\\, dx\n",
    "$$\n",
    "\n",
    "с точностью до $\\epsilon=10^{-4}$.\n",
    "\n",
    "Заметим, что интеграл содержит интегрируемую особенность в нижнем пределе. Выполните вычисление двумя способами: во первых, посчитайте интеграл \"в лоб\", во вторых, вычтите особенность из подынтегрального выражения. Сравните количество необходимых итераций для достижения заданной точности $\\epsilon$.\n",
    "\n",
    "(30% итоговой оценки)"
   ]
  },
  {
   "cell_type": "code",
   "execution_count": 104,
   "metadata": {},
   "outputs": [],
   "source": [
    "I, n = midpoint_rule(lambda x: np.sin(x**0.5) / x, 0, 1, 1e-4)"
   ]
  },
  {
   "cell_type": "code",
   "execution_count": 138,
   "metadata": {},
   "outputs": [],
   "source": [
    "I_s, n_s = midpoint_rule(lambda x: (np.sin(x**0.5) - x**0.5)/ x, 0, 1, 1e-4) # находим интеграл - сингулярность\n",
    "I_s = I_s + 2  # интеграл сингулярности = 2"
   ]
  },
  {
   "cell_type": "code",
   "execution_count": 139,
   "metadata": {},
   "outputs": [
    {
     "name": "stdout",
     "output_type": "stream",
     "text": [
      "8388608 1.891957289204461\n",
      "32 1.892113005639548\n",
      "262144.0\n"
     ]
    }
   ],
   "source": [
    "print(n, I)     # ответ и число точек влоб\n",
    "print(n_s, I_s) # ответ и число интервалов вычисляя отдельно сингулярность \n",
    "print(n / n_s)  # вычтя сингулярность количество интервалов уменьшилось в 262144 раза, это 18 РАЗ!!!"
   ]
  },
  {
   "cell_type": "code",
   "execution_count": null,
   "metadata": {},
   "outputs": [],
   "source": []
  }
 ],
 "metadata": {
  "kernelspec": {
   "display_name": "Python 3",
   "language": "python",
   "name": "python3"
  },
  "language_info": {
   "codemirror_mode": {
    "name": "ipython",
    "version": 3
   },
   "file_extension": ".py",
   "mimetype": "text/x-python",
   "name": "python",
   "nbconvert_exporter": "python",
   "pygments_lexer": "ipython3",
   "version": "3.7.6"
  }
 },
 "nbformat": 4,
 "nbformat_minor": 2
}
